{
 "cells": [
  {
   "cell_type": "markdown",
   "id": "01a2979e",
   "metadata": {},
   "source": [
    "# <font color=green><center> Átomos não são bolinhas e ligações químicas não são pauzinhos\n",
    "    \n",
    "### <font color=lightgreen><center>Maria Clara Macedo Lelis\n",
    "    \n",
    "<font color=purple> Nesse caderno utiliza-se o conceito de classes de python para modelar elementos químicos e moléculas. A classe `Elemento` possui como instâncias elementos com os seguintes atributos: símbolo do elemento, número atômico(Z), massa atômica(A). Já a classe `Molecula` tem como instâncias dicionários que têm como chaves os elementos e como valores as quantidades do elemento, essa classe possui também um método responsável por mostrar a fórmula química e um responsável por mostrar o peso molecular."
   ]
  },
  {
   "cell_type": "code",
   "execution_count": 27,
   "id": "4baad28a",
   "metadata": {},
   "outputs": [],
   "source": [
    "class Elemento:\n",
    "    def __init__(self,simbolo: str,numero: int,massa: float):\n",
    "        self.simbolo=simbolo\n",
    "        self.Z=numero\n",
    "        self.A=massa\n",
    "    def __repr__(self):\n",
    "        return f\"Elemento({self.simbolo},{self.Z},{self.A})\"\n",
    "\n",
    "class Molecula:\n",
    "    def __init__(self,composicao: dict):\n",
    "        if not all(isinstance(j,Elemento) for j in composicao.keys()):\n",
    "            raise ValueError(\"As chaves não são instâncias da classe Elemento.\")\n",
    "        self.composicao=composicao\n",
    "    def formula_quimica(self):\n",
    "        formula=\"\"\n",
    "        for elemento,quantidade in sorted(self.composicao.items(),key=lambda x: x[0].simbolo):\n",
    "            formula+=elemento.simbolo\n",
    "            if quantidade>1:\n",
    "                formula+=str(quantidade)\n",
    "        return f'Fórmula química({formula})'\n",
    "    def peso_molecular(self):\n",
    "        peso=sum(elemento.A*quantidade for elemento,quantidade in self.composicao.items())\n",
    "        return f'Peso molecular({peso})'"
   ]
  },
  {
   "cell_type": "markdown",
   "id": "e4af76b1",
   "metadata": {},
   "source": [
    "<font color=purple> Testando o funcionamento da classe `Elemento` com o elemento Oxigênio."
   ]
  },
  {
   "cell_type": "code",
   "execution_count": 33,
   "id": "0197523f",
   "metadata": {},
   "outputs": [],
   "source": [
    "oxigenio=Elemento('O',8,16)"
   ]
  },
  {
   "cell_type": "code",
   "execution_count": 35,
   "id": "0cc021b6",
   "metadata": {},
   "outputs": [
    {
     "data": {
      "text/plain": [
       "Elemento(O,8,16)"
      ]
     },
     "execution_count": 35,
     "metadata": {},
     "output_type": "execute_result"
    }
   ],
   "source": [
    "oxigenio"
   ]
  },
  {
   "cell_type": "markdown",
   "id": "a181231b",
   "metadata": {},
   "source": [
    "<font color=purple> Testando o funcionamento da classe `Molecula` com a molécula de Ozônio."
   ]
  },
  {
   "cell_type": "code",
   "execution_count": 34,
   "id": "e370fd62",
   "metadata": {},
   "outputs": [],
   "source": [
    "ozonio=Molecula({oxigenio:3})"
   ]
  },
  {
   "cell_type": "code",
   "execution_count": 36,
   "id": "83ecce5a",
   "metadata": {},
   "outputs": [
    {
     "data": {
      "text/plain": [
       "'Fórmula química(O3)'"
      ]
     },
     "execution_count": 36,
     "metadata": {},
     "output_type": "execute_result"
    }
   ],
   "source": [
    "ozonio.formula_quimica()"
   ]
  },
  {
   "cell_type": "code",
   "execution_count": 37,
   "id": "5ffd5918",
   "metadata": {},
   "outputs": [
    {
     "data": {
      "text/plain": [
       "'Peso molecular(48)'"
      ]
     },
     "execution_count": 37,
     "metadata": {},
     "output_type": "execute_result"
    }
   ],
   "source": [
    "ozonio.peso_molecular()"
   ]
  },
  {
   "cell_type": "markdown",
   "id": "7f4ac235",
   "metadata": {},
   "source": [
    "<font color=purple> Neste caderno é possível observar o funcionamento de classes. Foi possível perceber como a utilização de classes pode ajudar em problemas científicos e que a organização do código por meio delas pode facilitar a leitura e a compreensão do problema."
   ]
  }
 ],
 "metadata": {
  "kernelspec": {
   "display_name": "ilumpy",
   "language": "python",
   "name": "ilumpy"
  },
  "language_info": {
   "codemirror_mode": {
    "name": "ipython",
    "version": 3
   },
   "file_extension": ".py",
   "mimetype": "text/x-python",
   "name": "python",
   "nbconvert_exporter": "python",
   "pygments_lexer": "ipython3",
   "version": "3.11.6"
  }
 },
 "nbformat": 4,
 "nbformat_minor": 5
}
