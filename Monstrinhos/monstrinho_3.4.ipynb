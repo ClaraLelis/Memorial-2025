{
 "cells": [
  {
   "cell_type": "markdown",
   "id": "6ffe74ff",
   "metadata": {},
   "source": [
    "# <font color=green><center> _ _ dunder _ _\n",
    "### <font color=lightgreen><center>Maria Clara Macedo Lelis\n",
    "    \n",
    "<font color=purple>Métodos dunder, também conhecidos como métodos mágicos, são métodod que permitem moldar o comportamento de objetos e classes, um exemplo de método dunder é o método `__init__` que inicializa a classe. Nesse caderno são explorados e explicados alguns métodos dunder aplicados ao conceito de amostras geológicas."
   ]
  },
  {
   "cell_type": "code",
   "execution_count": 1,
   "id": "8ef271d4",
   "metadata": {},
   "outputs": [],
   "source": [
    "class amostra_geologica:\n",
    "    def __init__(self,composicao,idade_milhoes_anos,minerais):\n",
    "        self.composicao=composicao\n",
    "        self.idade=idade_milhoes_anos\n",
    "        self.minerais=minerais  \n",
    "    def __str__(self):\n",
    "        return f\"Amostra de {self.composicao} com {self.idade} milhões de anos\"\n",
    "    def __call__(self):\n",
    "        print(f\"Analisando amostra de {self.composicao} com {self.idade} milhões de anos...\")\n",
    "\n",
    "    def __len__(self):\n",
    "        return int(self.idade)\n",
    "\n",
    "    def __bool__(self):\n",
    "        return self.idade > 0\n",
    "\n",
    "    def __eq__(self, other):\n",
    "        return (self.composicao == other.composicao and \n",
    "                self.idade == other.idade and \n",
    "                self.minerais == other.minerais)\n",
    "\n",
    "    def __getitem__(self, index):\n",
    "        return self.minerais[index]\n",
    "\n",
    "    def __contains__(self, item):\n",
    "        return item in self.minerais"
   ]
  },
  {
   "cell_type": "markdown",
   "id": "6fa80d13",
   "metadata": {},
   "source": [
    "- <font color=purple> O dunder `__len__` devolve um inteiro maior ou igual a 0, nesse caso ele é utilizado para garantir que a idade da amostra inserida é um número inteiro;\n",
    "- <font color=purple> O dunder `__bool__` define o valor booleano do objeto quando usado em contextos como if ou while. A lógica implementada considera a amostra como “verdadeira” apenas se a idade for maior que 0; \n",
    "- <font color=purple> O dunder `__eq__` devolve uma verficação de equivalência entre instâncias, nesse caso compara duas amostras geológicas usando ==. Duas amostras são consideradas iguais se tiverem a mesma composição, idade e lista de minerais;\n",
    "- <font color=purple> O dunder `__getitem__` permite acessar o objeto como se fosse uma lista. Nesse caso cada mineral pode ser acessado por índice, como em listas comuns;\n",
    "- <font color=purple> O dunder `__contains__` permite verificar se o objeto contém outra informação, nesse caso se um mineral específico está presente na amostra;\n",
    "    \n",
    "    \n",
    "<font color=purple> Agora podemos testar cada um desses métodos com amostras hipotéticas."
   ]
  },
  {
   "cell_type": "code",
   "execution_count": 2,
   "id": "67339534",
   "metadata": {},
   "outputs": [],
   "source": [
    "amostra1=amostra_geologica(\"granito\",250,[\"quartzo\",\"feldspato\",\"mica\"])\n",
    "amostra2=amostra_geologica(\"granito\",250,[\"quartzo\",\"feldspato\",\"mica\"]) \n",
    "amostra3=amostra_geologica(\"mármore\",500,[\"calcita\",\"dolomita\"])\n",
    "amostra4=amostra_geologica(\"arenito\",180,[\"quartzo\",\"feldspato\"])"
   ]
  },
  {
   "cell_type": "code",
   "execution_count": 3,
   "id": "910777c8",
   "metadata": {},
   "outputs": [
    {
     "name": "stdout",
     "output_type": "stream",
     "text": [
      "250\n",
      "500\n",
      "180\n"
     ]
    }
   ],
   "source": [
    "# __len__\n",
    "print(len(amostra1))\n",
    "print(len(amostra3))\n",
    "print(len(amostra4))"
   ]
  },
  {
   "cell_type": "code",
   "execution_count": 4,
   "id": "b9669f66",
   "metadata": {},
   "outputs": [
    {
     "name": "stdout",
     "output_type": "stream",
     "text": [
      "True\n",
      "False\n"
     ]
    }
   ],
   "source": [
    "# __bool__\n",
    "print(bool(amostra1))  \n",
    "print(bool(amostra_geologica(\"argila\", 0, []))) "
   ]
  },
  {
   "cell_type": "code",
   "execution_count": 5,
   "id": "1562db07",
   "metadata": {},
   "outputs": [
    {
     "name": "stdout",
     "output_type": "stream",
     "text": [
      "True\n",
      "False\n",
      "False\n"
     ]
    }
   ],
   "source": [
    "# __eq__\n",
    "print(amostra1 == amostra2)  \n",
    "print(amostra1 == amostra3)\n",
    "print(amostra3 == amostra4)"
   ]
  },
  {
   "cell_type": "code",
   "execution_count": 6,
   "id": "7257db04",
   "metadata": {},
   "outputs": [
    {
     "name": "stdout",
     "output_type": "stream",
     "text": [
      "mica\n",
      "dolomita\n",
      "quartzo\n"
     ]
    }
   ],
   "source": [
    "# __getitem__\n",
    "print(amostra1[2])\n",
    "print(amostra3[1])\n",
    "print(amostra4[0])"
   ]
  },
  {
   "cell_type": "code",
   "execution_count": 7,
   "id": "7da27832",
   "metadata": {},
   "outputs": [
    {
     "name": "stdout",
     "output_type": "stream",
     "text": [
      "True\n",
      "False\n"
     ]
    }
   ],
   "source": [
    "# __contains__\n",
    "print(\"mica\" in amostra1)       \n",
    "print(\"mica\" in amostra3)    "
   ]
  },
  {
   "cell_type": "markdown",
   "id": "84d21a1e",
   "metadata": {},
   "source": [
    "<font color=purple>O uso dos métodos especiais em classes torna os objetos mais fáceis de usar e mais parecidos com os tipos nativos do Python. Eles permitem, por exemplo, exibir a amostra de forma clara, compará-la com outras, acessá-la como uma lista de minerais, verificar sua validade e até executá-la como uma função.Com isso, a classe fica mais intuitiva, legível e compatível com comandos comuns do Python como ´len()´."
   ]
  }
 ],
 "metadata": {
  "kernelspec": {
   "display_name": "ilumpy",
   "language": "python",
   "name": "ilumpy"
  },
  "language_info": {
   "codemirror_mode": {
    "name": "ipython",
    "version": 3
   },
   "file_extension": ".py",
   "mimetype": "text/x-python",
   "name": "python",
   "nbconvert_exporter": "python",
   "pygments_lexer": "ipython3",
   "version": "3.11.6"
  }
 },
 "nbformat": 4,
 "nbformat_minor": 5
}
