{
 "cells": [
  {
   "cell_type": "markdown",
   "metadata": {},
   "source": [
    "# <font color=green><center> Classes de python não pagam imposto sobre herença\n",
    "### <font color=lightgreen><center>Maria Clara Macedo Lelis    \n",
    "    \n",
    "<font color=purple> Neste caderno é abordado o conceito de herança de classes, ele é exemplificado por meio do conceito de biomas. Biomas são unidades geográficas identificadas e delimitadas com base em aspectos naturais em comum, alguns exemplos de biomas são a floresta tropical, o deserto e a tundra, cada um deles possui características interessantes para se explorar. A floresta tropical é um dos biomas com maior biomassa por metro quadrado, o deserto possui tempestades de areia e a tundra pode ter seu solo congelado. A seguir esses conceitos são aplicados ao python."
   ]
  },
  {
   "cell_type": "code",
   "execution_count": 1,
   "metadata": {},
   "outputs": [],
   "source": [
    "class Bioma:\n",
    "    def __init__(self,nome,temperatura_media,precipitacao_anual):\n",
    "        self.nome=nome\n",
    "        self.temperatura_media=temperatura_media\n",
    "        self.precipitacao_anual=precipitacao_anual\n",
    "    def __str__(self):\n",
    "        return f\"{self.nome}: {self.temperatura_media}°C, {self.precipitacao_anual}mm\"\n",
    "    def classificar_clima(self):\n",
    "        if self.temperatura_media > 20 and self.precipitacao_anual > 2000:\n",
    "            return \"Quente e úmido\"\n",
    "        elif self.temperatura_media > 20 and self.precipitacao_anual < 500:\n",
    "            return \"Quente e seco\"\n",
    "        elif self.temperatura_media < 10:\n",
    "            return \"Frio\"\n",
    "        elif self.temperatura_media < 0:\n",
    "            return \"Frio extremo\"\n",
    "        else:\n",
    "            return \"Temperado\"\n",
    "\n",
    "\n",
    "class floresta_tropical(Bioma):\n",
    "    def __init__(self):\n",
    "        super().__init__(\"Floresta Tropical\", 25, 2500)\n",
    "    def vegetacao(self):\n",
    "        return \"Árvores altas e vegetação densa\"\n",
    "    def calcular_biomassa(self, hectares):\n",
    "        return hectares * 200 \n",
    "    def uso_comum(self):\n",
    "        return \"Agricultura, extrativismo, preservação\"\n",
    "\n",
    "class deserto(Bioma):\n",
    "    def __init__(self):\n",
    "        super().__init__(\"Deserto\", 35, 250)\n",
    "    def vegetacao(self):\n",
    "        return \"Cactos, arbustos xerófitos, vegetação esparsa\"\n",
    "    def risco_tempestade_areia(self, vento_kmh):\n",
    "        return vento_kmh > 50\n",
    "    def uso_comum(self):\n",
    "        return \"Energia solar, turismo, mineração\"\n",
    "\n",
    "class tundra(Bioma):\n",
    "    def __init__(self):\n",
    "        super().__init__(\"Tundra\", -10, 300)\n",
    "    def vegetacao(self):\n",
    "        return \"Musgos, líquens e pequenos arbustos\"\n",
    "    def verifica_permafrost(self):\n",
    "        return self.temperatura_media < 0\n",
    "    def uso_comum(self):\n",
    "        return \"Pesquisa científica, preservação, extração limitada de recursos\""
   ]
  },
  {
   "cell_type": "markdown",
   "metadata": {},
   "source": [
    "<font color=purple> A classe `Bioma` tem como atributos nome do bioma, temperatura média e índice pluviométrico, essa classe possui um método de classificação de clima do bioma. As classes de biomas específicos recebem `Bioma` e possuem cada uma seu método específico baseado nas características descritas acima. A classe `floresta_tropical` possui o método `calcular_biomassa` que calcula a biomassa por n hectáres, O `deserto` possui o método `risco_tempestade_areia` que devolve se há ou não possibilidade de tempestade de areia com base na velocidade do vento e a classe `tundra` possui o método `verifica_permafrost` que verifica o congelamento do solo com base na temperatura média.\n",
    "    \n",
    "    \n",
    "<font color=purple> Testando as classes:"
   ]
  },
  {
   "cell_type": "code",
   "execution_count": 2,
   "metadata": {},
   "outputs": [
    {
     "name": "stdout",
     "output_type": "stream",
     "text": [
      "Floresta Tropical: 25°C, 2500mm\n",
      "Vegetação: Árvores altas e vegetação densa\n",
      "Uso: Agricultura, extrativismo, preservação\n",
      "Clima: Quente e úmido\n",
      "Biomassa estimada para 10 ha: 2000 toneladas\n",
      "--------------------------------------------------\n",
      "Deserto: 35°C, 250mm\n",
      "Vegetação: Cactos, arbustos xerófitos, vegetação esparsa\n",
      "Uso: Energia solar, turismo, mineração\n",
      "Clima: Quente e seco\n",
      "Risco de tempestade de areia com 60 km/h de vento: True\n",
      "--------------------------------------------------\n",
      "Tundra: -10°C, 300mm\n",
      "Vegetação: Musgos, líquens e pequenos arbustos\n",
      "Uso: Pesquisa científica, preservação, extração limitada de recursos\n",
      "Clima: Frio\n",
      "Permafrost presente? True\n",
      "--------------------------------------------------\n"
     ]
    }
   ],
   "source": [
    "biomas = [floresta_tropical(), deserto(), tundra()]\n",
    "\n",
    "for b in biomas:\n",
    "    print(b)\n",
    "    print(\"Vegetação:\", b.vegetacao())\n",
    "    print(\"Uso:\", b.uso_comum())\n",
    "    print(\"Clima:\",b.classificar_clima())\n",
    "    \n",
    "    if isinstance(b, floresta_tropical):\n",
    "        print(\"Biomassa estimada para 10 ha:\", b.calcular_biomassa(10), \"toneladas\")\n",
    "    elif isinstance(b, deserto):\n",
    "        print(\"Risco de tempestade de areia com 60 km/h de vento:\", b.risco_tempestade_areia(60))\n",
    "    elif isinstance(b, tundra):\n",
    "        print(\"Permafrost presente?\", b.verifica_permafrost())\n",
    "    \n",
    "    print(\"-\" * 50)\n"
   ]
  },
  {
   "cell_type": "markdown",
   "metadata": {},
   "source": [
    "<font color=purple> Se pode observar o funcionamento das classses, cada uma das instâncias na lista de biomas pertence a uma das classes herdeiras e possuem as informações dos métodos herdados: vegetação e uso. Além disso, possuem os métodos que justificam a criação de sua respectiva classe."
   ]
  }
 ],
 "metadata": {
  "kernelspec": {
   "display_name": "Python 3 (ipykernel)",
   "language": "python",
   "name": "python3"
  },
  "language_info": {
   "codemirror_mode": {
    "name": "ipython",
    "version": 3
   },
   "file_extension": ".py",
   "mimetype": "text/x-python",
   "name": "python",
   "nbconvert_exporter": "python",
   "pygments_lexer": "ipython3",
   "version": "3.11.5"
  }
 },
 "nbformat": 4,
 "nbformat_minor": 2
}
