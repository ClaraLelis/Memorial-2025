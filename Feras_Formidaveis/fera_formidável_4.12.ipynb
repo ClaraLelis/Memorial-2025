{
 "cells": [
  {
   "cell_type": "markdown",
   "id": "85d52a49",
   "metadata": {},
   "source": [
    "# <font color=purple><center> Novos palíndromos\n",
    "    \n",
    "### <font color=violet><center>Maria Clara Macêdo Lelis\n",
    "    \n",
    "    \n",
    "    \n",
    "<font color=green> Neste caderno enfrentamos o problema de geração de palavras com as seguintes limitações, as palavras geradas devem ser palíndromos e devem conter vogais. Para isso utilizamos as funções do script `fera_12`, o código é melhor explicado ao final do notebook."
   ]
  },
  {
   "cell_type": "code",
   "execution_count": 1,
   "id": "58dced77",
   "metadata": {},
   "outputs": [],
   "source": [
    "from fera_12 import *\n",
    "from string import ascii_lowercase"
   ]
  },
  {
   "cell_type": "code",
   "execution_count": 3,
   "id": "671f5f1f",
   "metadata": {},
   "outputs": [
    {
     "name": "stdout",
     "output_type": "stream",
     "text": [
      "Novo palíndromo encontrado: qejeq\n",
      "Novo palíndromo encontrado: jieij\n",
      "Novo palíndromo encontrado: ildli\n",
      "Novo palíndromo encontrado: wcacw\n",
      "Novo palíndromo encontrado: ifnfi\n",
      "Novo palíndromo encontrado: bwewb\n",
      "Novo palíndromo encontrado: zvevz\n",
      "Novo palíndromo encontrado: uyeyu\n",
      "Novo palíndromo encontrado: unvnu\n",
      "Novo palíndromo encontrado: bigib\n",
      "\n",
      "10 Palíndromos diferentes com vogais encontrados:\n",
      "{'unvnu', 'bigib', 'ifnfi', 'bwewb', 'jieij', 'ildli', 'qejeq', 'wcacw', 'zvevz', 'uyeyu'}\n"
     ]
    }
   ],
   "source": [
    "VOGAIS = \"aeiou\"\n",
    "ALFABETO = ascii_lowercase\n",
    "POP_SIZE = 100\n",
    "MUTATION_RATE = 0.4\n",
    "MAX_GEN = 1000\n",
    "\n",
    "palindromos_encontrados = set()\n",
    "\n",
    "while len(palindromos_encontrados) < 10:\n",
    "    pop = [criar_individuo(ALFABETO) for _ in range(POP_SIZE)]\n",
    "    \n",
    "    for _ in range(MAX_GEN):\n",
    "        pop = sorted(pop, key=lambda ind: fitness(ind,VOGAIS), reverse=True)\n",
    "        \n",
    "        melhor = gerar_palindromo(pop[0])\n",
    "        if fitness(pop[0],VOGAIS) == 1 and melhor not in palindromos_encontrados:\n",
    "            palindromos_encontrados.add(melhor)\n",
    "            print(f\"Novo palíndromo encontrado: {melhor}\")\n",
    "            break  \n",
    "\n",
    "        nova_pop = pop[:10]\n",
    "        while len(nova_pop) < POP_SIZE:\n",
    "            p1, p2 = random.choices(pop[:50], k=2)\n",
    "            filho = crossover(p1, p2)\n",
    "            if random.random() < MUTATION_RATE:\n",
    "                filho = mutate(filho)\n",
    "            nova_pop.append(filho)\n",
    "        pop = nova_pop\n",
    "\n",
    "print(\"\\n10 Palíndromos diferentes com vogais encontrados:\")\n",
    "print(palindromos_encontrados)\n"
   ]
  },
  {
   "cell_type": "markdown",
   "id": "806fe213",
   "metadata": {},
   "source": [
    "### <font color = green> Explicando o código\n",
    "    \n",
    "<font color = green> Primeiro criamos uma população inicial de palavras aleatórias usando letras do alfabeto. Depois, em cada geração, essas palavras são avaliadas por uma função de fitness que mede se elas possuem ou não vogais.\n",
    "A melhor palavra de cada geração é transformada em um palíndromo usando a função gerar_palindromo(). Se ela for feita apenas de vogais e ainda não tiver sido encontrada antes, é adicionada a um conjunto de palíndromos únicos. Enquanto não forem encontrados 10 palíndromos diferentes, o algoritmo continua evoluindo a população: seleciona os melhores indivíduos, cruza pares de palavras para formar novas e aplica mutações aleatórias para manter a diversidade das combinações. Esse processo imita a evolução natural.No final, o código imprime os 10 palíndromos diferentes gerados.\n",
    "\n",
    "<font color = green> Com esse código é possivel observar o funcionamento de um algoritmo genético de geração de palavras."
   ]
  },
  {
   "cell_type": "code",
   "execution_count": null,
   "id": "5a762c1e",
   "metadata": {},
   "outputs": [],
   "source": []
  }
 ],
 "metadata": {
  "kernelspec": {
   "display_name": "ilumpy",
   "language": "python",
   "name": "ilumpy"
  },
  "language_info": {
   "codemirror_mode": {
    "name": "ipython",
    "version": 3
   },
   "file_extension": ".py",
   "mimetype": "text/x-python",
   "name": "python",
   "nbconvert_exporter": "python",
   "pygments_lexer": "ipython3",
   "version": "3.11.6"
  }
 },
 "nbformat": 4,
 "nbformat_minor": 5
}
