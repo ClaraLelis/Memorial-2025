{
 "cells": [
  {
   "cell_type": "markdown",
   "id": "9fe4acaa",
   "metadata": {},
   "source": [
    "# <font color=purple><center>Quem classifica a classe classificadora?\n",
    "    \n",
    "### <font color=violet><center>Maria Clara Macêdo Lelis\n",
    "    \n",
    "<font color=green> Neste notebook é implementada uma rede MLP de classificação em python puro, ela é aplicada aos dados do dataset `geiyser` da biblioteca `seaborn` é feita uma classificação binária dos geisers em longo(1) e curto(0).\n",
    "    \n",
    "    \n",
    "<font color=green>Primeiramente importamos as bibliotecas a serem utilizadas. Após isso carregamos o dataset `geyser`, realizamos uma normaluzação dos dados e fazemos um split de treino e teste.  \n"
   ]
  },
  {
   "cell_type": "code",
   "execution_count": 9,
   "id": "6212f232",
   "metadata": {},
   "outputs": [],
   "source": [
    "import random\n",
    "import math\n",
    "import seaborn as sns\n",
    "from sklearn.model_selection import train_test_split\n",
    "from sklearn.preprocessing import StandardScaler\n",
    "\n",
    "geyser=sns.load_dataset(\"geyser\").dropna()\n",
    "\n",
    "labels=geyser[\"kind\"].map({\"short\": 0, \"long\": 1}).values\n",
    "features=geyser[[\"duration\", \"waiting\"]].values\n",
    "\n",
    "scaler=StandardScaler()\n",
    "features=scaler.fit_transform(features)\n",
    "\n",
    "X_train, X_test, y_train, y_test=train_test_split(features, labels, test_size=0.1, random_state=280106)"
   ]
  },
  {
   "cell_type": "markdown",
   "id": "974c27dd",
   "metadata": {},
   "source": [
    "<font color=green>Então definimos a classe `Valor`, que representa um número com operações personalizadas e suporte a gradiente.Ela armazena um valor escalar (data) e seu gradiente (grad).\n",
    "Sobrecarga os operadores `+` e `*` para permitir contas entre objetos Valor e floats/ints.\n",
    "Inclui a função `sig()` que aplica a ativação sigmoide, útil para redes neurais.\n",
    "Serve como base para construir uma rede neural artesanal com controle sobre os dados e gradientes."
   ]
  },
  {
   "cell_type": "code",
   "execution_count": 2,
   "id": "30029f61",
   "metadata": {},
   "outputs": [],
   "source": [
    "class Valor:\n",
    "    def __init__(self, data):\n",
    "        self.data=data\n",
    "        self.grad=0.0\n",
    "\n",
    "    def __add__(self, other):\n",
    "        other=other if isinstance(other, Valor) else Valor(other)\n",
    "        out=Valor(self.data + other.data)\n",
    "        return out\n",
    "\n",
    "    def __mul__(self, other):\n",
    "        other=other if isinstance(other, Valor) else Valor(other)\n",
    "        out=Valor(self.data * other.data)\n",
    "        return out\n",
    "\n",
    "    def __radd__(self, other): return self + other\n",
    "    def __rmul__(self, other): return self * other\n",
    "\n",
    "    def sig(self):\n",
    "        x = self.data\n",
    "        return Valor(1/(1 + math.exp(-x)))\n",
    "\n",
    "    def __repr__(self):\n",
    "        return f\"Valor({self.data:.4f})\""
   ]
  },
  {
   "cell_type": "markdown",
   "id": "5a6d934e",
   "metadata": {},
   "source": [
    "<font color=green>  O próximo passo é criar a classe `Neuronio` que representa os neurônios artificiais que serão usados na rede. Ele recebe entradas, multiplica cada uma por um peso (escolhido aleatoriamente), soma tudo com um viés (bias) e aplica uma função de ativação, nesse caso a função sigmoide."
   ]
  },
  {
   "cell_type": "code",
   "execution_count": 3,
   "id": "01adee0d",
   "metadata": {},
   "outputs": [],
   "source": [
    "class Neuronio:\n",
    "    def __init__(self, entradas):\n",
    "        self.pesos=[Valor(random.uniform(-1, 1)) for _ in range(entradas)]\n",
    "        self.bias=Valor(0.0)\n",
    "\n",
    "    def __call__(self, x):\n",
    "        soma=sum((w * xi for w, xi in zip(self.pesos, x)), self.bias)\n",
    "        return soma.sig() "
   ]
  },
  {
   "cell_type": "markdown",
   "id": "41701a15",
   "metadata": {},
   "source": [
    "<font color=green> Agora criamos a classe `Camada` que representa as camadas da rede. Ao ser criada, a camada recebe o número de entradas e o número de saídas desejado, e então cria um neurônio para cada saída. Quando a camada é chamada com uma lista de entradas, ela envia essas entradas para cada neurônio e retorna uma lista com as saídas de todos eles."
   ]
  },
  {
   "cell_type": "code",
   "execution_count": 4,
   "id": "38fc6106",
   "metadata": {},
   "outputs": [],
   "source": [
    "class Camada:\n",
    "    def __init__(self, entradas, saidas):\n",
    "        self.neuronios=[Neuronio(entradas) for _ in range(saidas)]\n",
    "\n",
    "    def __call__(self, x):\n",
    "        return [n(x) for n in self.neuronios]\n"
   ]
  },
  {
   "cell_type": "markdown",
   "id": "b0b83faf",
   "metadata": {},
   "source": [
    "<font color=green> Finalmente podemos criar a classe `MLP` que representa a nossa rede neural de percepção multicamadas. Ela tem duas camadas: a primeira recebe 2 entradas e gera 3 saídas, e a segunda recebe essas 3 saídas e gera 1 resultado final. Quando a rede é chamada com dados de entrada, ela passa essas informações pela primeira camada, depois pela segunda, e retorna a saída final como resultado."
   ]
  },
  {
   "cell_type": "code",
   "execution_count": 5,
   "id": "7be17ce2",
   "metadata": {},
   "outputs": [],
   "source": [
    "class MLP:\n",
    "    def __init__(self):\n",
    "        self.camada1=Camada(2, 3)\n",
    "        self.camada2=Camada(3, 1)\n",
    "\n",
    "    def __call__(self, x):\n",
    "        out1=self.camada1(x)\n",
    "        out2=self.camada2(out1)\n",
    "        return out2[0]"
   ]
  },
  {
   "cell_type": "markdown",
   "id": "55729a0e",
   "metadata": {},
   "source": [
    "<font color=green> Agora que já definimos as classes necessárias para treinar a nossa rede, nós podemos realizar o treinamento da rede e analizar seu desempenho."
   ]
  },
  {
   "cell_type": "code",
   "execution_count": 6,
   "id": "0f1a9ea4",
   "metadata": {},
   "outputs": [
    {
     "name": "stdout",
     "output_type": "stream",
     "text": [
      "Época 0, Erro médio: 0.0470\n",
      "Época 10, Erro médio: 0.0123\n",
      "Época 20, Erro médio: 0.0098\n",
      "Época 30, Erro médio: 0.0085\n",
      "Época 40, Erro médio: 0.0081\n",
      "Época 50, Erro médio: 0.0080\n",
      "Época 60, Erro médio: 0.0080\n",
      "Época 70, Erro médio: 0.0080\n",
      "Época 80, Erro médio: 0.0080\n",
      "Época 90, Erro médio: 0.0080\n"
     ]
    }
   ],
   "source": [
    "rede=MLP()\n",
    "taxa_aprendizado=0.1\n",
    "\n",
    "for epoca in range(100):\n",
    "    erro_total=0\n",
    "    for xi, yi in zip(X_train, y_train):\n",
    "        entrada=[Valor(x) for x in xi]\n",
    "        saida=rede(entrada)\n",
    "        erro=(saida.data-yi)**2\n",
    "        erro_total+=erro\n",
    "\n",
    "        delta=saida.data-yi\n",
    "        for camada in [rede.camada2, rede.camada1]:\n",
    "            for neuronio in camada.neuronios:\n",
    "                for i in range(len(neuronio.pesos)):\n",
    "                    neuronio.pesos[i].data-=taxa_aprendizado*delta*xi[i%2]  # simplificação\n",
    "                neuronio.bias.data-=taxa_aprendizado*delta\n",
    "\n",
    "    if epoca %10==0:\n",
    "        print(f\"Época {epoca}, Erro médio: {erro_total/len(X_train):.4f}\")"
   ]
  },
  {
   "cell_type": "code",
   "execution_count": 12,
   "id": "846ba4dc",
   "metadata": {},
   "outputs": [
    {
     "name": "stdout",
     "output_type": "stream",
     "text": [
      " Y real: 1; Y previsto: 1;\n",
      " Y real: 1; Y previsto: 1;\n",
      " Y real: 1; Y previsto: 1;\n",
      " Y real: 0; Y previsto: 0;\n",
      " Y real: 1; Y previsto: 1;\n",
      " Y real: 1; Y previsto: 1;\n",
      " Y real: 1; Y previsto: 0;\n",
      " Y real: 1; Y previsto: 1;\n",
      " Y real: 1; Y previsto: 1;\n",
      " Y real: 1; Y previsto: 1;\n",
      " Y real: 1; Y previsto: 1;\n",
      " Y real: 1; Y previsto: 1;\n",
      " Y real: 0; Y previsto: 0;\n",
      " Y real: 1; Y previsto: 1;\n",
      " Y real: 1; Y previsto: 1;\n",
      " Y real: 0; Y previsto: 0;\n",
      " Y real: 0; Y previsto: 0;\n",
      " Y real: 0; Y previsto: 0;\n",
      " Y real: 1; Y previsto: 1;\n",
      " Y real: 1; Y previsto: 1;\n",
      " Y real: 0; Y previsto: 0;\n",
      " Y real: 1; Y previsto: 1;\n",
      " Y real: 0; Y previsto: 0;\n",
      " Y real: 1; Y previsto: 1;\n",
      " Y real: 1; Y previsto: 1;\n",
      " Y real: 0; Y previsto: 0;\n",
      " Y real: 1; Y previsto: 1;\n",
      " Y real: 0; Y previsto: 0;\n",
      "Acurácia na base de teste: 96.43%\n"
     ]
    }
   ],
   "source": [
    "acertos=0\n",
    "for xi, yi in zip(X_test, y_test):\n",
    "    entrada=[Valor(x) for x in xi]\n",
    "    saida=rede(entrada)\n",
    "    pred=1 if saida.data > 0.5 else 0\n",
    "    print(f\" Y real: {yi}; Y previsto: {pred};\")\n",
    "    if pred==yi:\n",
    "        acertos+=1\n",
    "\n",
    "print(f\"Acurácia na base de teste: {acertos/len(y_test)*100:.2f}%\")"
   ]
  },
  {
   "cell_type": "markdown",
   "id": "4c3d01e3",
   "metadata": {},
   "source": [
    "<font color=green>Podemos perceber que o nosso modelo foi muito eficiente para prever se o geiser é curto(0) ou longo(1). A partir desse notebook podemos perceber algumas diferenças entre um modelo MLP de regressão e um modelo MLP de classificação, principalmente no tipo de saída e na função usada para gerar essa saída. No MLP de regressão, a rede gera um valor numérico contínuo (como prever o preço de uma casa), geralmente sem aplicar funções de ativação na última camada, ou usando funções como a identidade. Já no MLP de classificação, a saída representa categorias (como identificar se uma imagem é de um gato ou cachorro), e a última camada costuma usar funções como softmax (para múltiplas classes) ou sigmoide (para uma classe) para transformar os valores em probabilidades. Portanto, a diferença está no propósito da rede e em como ela trata a saída final.\n",
    "    \n",
    "<font color=green> Referências\n",
    "    \n",
    "-    https://thiagogglopes97.medium.com/classifica%C3%A7%C3%A3o-ou-regress%C3%A3o-e03c05a662a\n",
    "-    Material de aula"
   ]
  }
 ],
 "metadata": {
  "kernelspec": {
   "display_name": "ilumpy",
   "language": "python",
   "name": "ilumpy"
  },
  "language_info": {
   "codemirror_mode": {
    "name": "ipython",
    "version": 3
   },
   "file_extension": ".py",
   "mimetype": "text/x-python",
   "name": "python",
   "nbconvert_exporter": "python",
   "pygments_lexer": "ipython3",
   "version": "3.11.6"
  }
 },
 "nbformat": 4,
 "nbformat_minor": 5
}
