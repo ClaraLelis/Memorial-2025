{
 "cells": [
  {
   "cell_type": "markdown",
   "id": "e5bef96c",
   "metadata": {},
   "source": [
    "# <font color=purple><center> A liga ternária mais cara do mundo!\n",
    "    \n",
    "### <font color=violet><center>Maria Clara Macêdo Lelis\n",
    "    \n",
    "    \n",
    "<font color=green> Neste caderno enfrentamos o seguinte problema: Qual a liga ternária mais cara que consegue-se produzir a partir dos elementos químicos no mercado, sendo que a liga deve conter 100g, sendo 90g do primeiro elemento, 5g do segundo e 5g do terceiro. Para resolver essa questão utilizamos as funções do script `fera_13`, e o código a seguir, que será melhor explicado no final do notebook."
   ]
  },
  {
   "cell_type": "code",
   "execution_count": 1,
   "id": "0842e1df",
   "metadata": {},
   "outputs": [],
   "source": [
    "from fera_13 import *"
   ]
  },
  {
   "cell_type": "code",
   "execution_count": 2,
   "id": "9be06bfe",
   "metadata": {},
   "outputs": [
    {
     "name": "stdout",
     "output_type": "stream",
     "text": [
      "\n",
      "Melhor liga encontrada:\n",
      "5g de Ac (US$29,000,000,000,000.00/kg)\n",
      "90g de Po (US$49,200,000,000,000.00/kg)\n",
      "5g de Ir (US$56,200.00/kg)\n",
      "Custo total: US$4,573,000,000,281.00\n"
     ]
    }
   ],
   "source": [
    "POP_SIZE = 100\n",
    "GERACOES = 100\n",
    "pop = [criar_individuo() for _ in range(POP_SIZE)]\n",
    "\n",
    "for ger in range(GERACOES):\n",
    "    pop.sort(key=fitness, reverse=True)\n",
    "    nova_pop = pop[:10]  \n",
    "\n",
    "    while len(nova_pop) < POP_SIZE:\n",
    "        p1, p2 = random.choices(pop[:50], k=2)\n",
    "        filho = crossover(p1, p2)\n",
    "        if random.random() < 0.3:\n",
    "            filho = mutacao(filho)\n",
    "        nova_pop.append(filho)\n",
    "\n",
    "    pop = nova_pop\n",
    "\n",
    "melhor = max(pop, key=fitness)\n",
    "print(\"\\nMelhor liga encontrada:\")\n",
    "for el, q in zip(melhor[\"el\"], melhor[\"qtd\"]):\n",
    "    print(f\"{q}g de {el} (US${preco[el]:,.2f}/kg)\")\n",
    "print(f\"Custo total: US${fitness(melhor):,.2f}\")\n"
   ]
  },
  {
   "cell_type": "markdown",
   "id": "b11beb24",
   "metadata": {},
   "source": [
    "### <font color=green> Explicando o código\n",
    "<font color=green>Primeiramente cria-se uma população inicial de 100 ligas diferentes, cada uma formada por certos elementos (\"el\") e suas respectivas quantidades em gramas (\"qtd\"). A função fitness calcula quanto custa cada liga com base nos preços dos elementos, e o objetivo é encontrar a liga mais barata.\n",
    "Durante 100 gerações, o algoritmo evolui a população: primeiro, ordena as ligas da mais barata para a mais cara. Depois, mantém as 10 melhores (mais baratas) para garantir que boas soluções não se percam. Em seguida, ele cruza pares de ligas boas (selecionadas entre as 50 melhores) para gerar novas combinações de elementos. Com uma chance de 30%, essas novas ligas também sofrem uma mutação, que muda um pouco os elementos ou quantidades — isso ajuda o algoritmo a explorar novas possibilidades.\n",
    "Ao final das gerações, o programa identifica a melhor liga encontrada, mostra quanto de cada elemento ela usa, o custo por quilo de cada um e o custo total da liga."
   ]
  },
  {
   "cell_type": "code",
   "execution_count": null,
   "id": "2f4d787f",
   "metadata": {},
   "outputs": [],
   "source": []
  }
 ],
 "metadata": {
  "kernelspec": {
   "display_name": "ilumpy",
   "language": "python",
   "name": "ilumpy"
  },
  "language_info": {
   "codemirror_mode": {
    "name": "ipython",
    "version": 3
   },
   "file_extension": ".py",
   "mimetype": "text/x-python",
   "name": "python",
   "nbconvert_exporter": "python",
   "pygments_lexer": "ipython3",
   "version": "3.11.6"
  }
 },
 "nbformat": 4,
 "nbformat_minor": 5
}
